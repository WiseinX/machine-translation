{
 "cells": [
  {
   "cell_type": "markdown",
   "metadata": {
    "id": "J0Qjg6vuaHNt"
   },
   "source": [
    "# 基于注意力的神经机器翻译"
   ]
  },
  {
   "cell_type": "markdown",
   "metadata": {
    "id": "CiwtNgENbx2g"
   },
   "source": [
    "此笔记本训练一个将南非语翻译为英语的序列到序列（sequence to sequence，简写为 seq2seq）模型。此例子难度较高，需要对序列到序列模型的知识有一定了解。\t\n",
    "\n",
    "训练完此笔记本中的模型后，你将能够输入一个南非语句子，例如 *\"Gaan binne.\"*，并返回其英语翻译 *\"Come in.\"*\n",
    "\n",
    "对于一个简单的例子来说，翻译质量令人满意。但是更有趣的可能是生成的注意力图：它显示在翻译过程中，输入句子的哪些部分受到了模型的注意。\n",
    "\n",
    "<img src=\"https://tensorflow.google.cn/images/spanish-english.png\" alt=\"spanish-english attention plot\">\n",
    "\n",
    "请注意：运行这个例子用一个 P100 GPU 需要花大约 10 分钟。"
   ]
  },
  {
   "cell_type": "code",
   "execution_count": 95,
   "metadata": {
    "id": "tnxXKDjq3jEL"
   },
   "outputs": [],
   "source": [
    "import tensorflow as tf\n",
    "\n",
    "import matplotlib.pyplot as plt\n",
    "import matplotlib.ticker as ticker\n",
    "from sklearn.model_selection import train_test_split\n",
    "\n",
    "import unicodedata\n",
    "import re\n",
    "import numpy as np\n",
    "import os\n",
    "import io\n",
    "import time"
   ]
  },
  {
   "cell_type": "markdown",
   "metadata": {
    "id": "wfodePkj3jEa"
   },
   "source": [
    "## 下载和准备数据集\n",
    "\n",
    "我们将使用 http://www.manythings.org/anki/ 提供的一个语言数据集。这个数据集包含如下格式的语言翻译对：\n",
    "\n",
    "```\n",
    "Come in.\tGaan binne.\n",
    "```\n",
    "\n",
    "这个数据集中有很多种语言可供选择。我们将使用英语 - 南非语数据集。下载完数据集后，我们将采取下列步骤准备数据：\n",
    "\n",
    "1. 给每个句子添加一个 *开始* 和一个 *结束* 标记（token）。\n",
    "2. 删除特殊字符以清理句子。\n",
    "3. 创建一个单词索引和一个反向单词索引（即一个从单词映射至 id 的词典和一个从 id 映射至单词的词典）。\n",
    "4. 将每个句子填充（pad）到最大长度。"
   ]
  },
  {
   "cell_type": "code",
   "execution_count": 96,
   "metadata": {
    "id": "kRVATYOgJs1b"
   },
   "outputs": [],
   "source": [
    "# 下载文件\n",
    "'''\n",
    "path_to_zip = tf.keras.utils.get_file(\n",
    "    'spa-eng.zip', origin='http://storage.googleapis.com/download.tensorflow.org/data/spa-eng.zip',\n",
    "    extract=True)\n",
    "\n",
    "path_to_file = os.path.dirname(path_to_zip)+\"/spa-eng/spa.txt\"\n",
    "'''\n",
    "\n",
    "path_to_file = \"./lan/afr.txt\"\n",
    "\n"
   ]
  },
  {
   "cell_type": "code",
   "execution_count": 97,
   "metadata": {
    "id": "rd0jw-eC3jEh"
   },
   "outputs": [],
   "source": [
    "# 将 unicode 文件转换为 ascii\n",
    "def unicode_to_ascii(s):\n",
    "    return ''.join(c for c in unicodedata.normalize('NFD', s)\n",
    "        if unicodedata.category(c) != 'Mn')\n",
    "\n",
    "\n",
    "def preprocess_sentence_en(w):\n",
    "    w = unicode_to_ascii(w.lower().strip())\n",
    "\n",
    "    # 在单词与跟在其后的标点符号之间插入一个空格\n",
    "    # 例如： \"he is a boy.\" => \"he is a boy .\"\n",
    "    # 参考：https://stackoverflow.com/questions/3645931/python-padding-punctuation-with-white-spaces-keeping-punctuation\n",
    "    w = re.sub(r\"([?.!,¿])\", r\" \\1 \", w)\n",
    "    w = re.sub(r'[\" \"]+', \" \", w)\n",
    "\n",
    "    # 除了 (a-z, A-Z, \".\", \"?\", \"!\", \",\")，将所有字符替换为空格\n",
    "    w = re.sub(r\"[^a-zA-Z?.!,¿]+\", \" \", w)\n",
    "\n",
    "    w = w.rstrip().strip()\n",
    "\n",
    "    # 给句子加上开始和结束标记\n",
    "    # 以便模型知道何时开始和结束预测\n",
    "    w = '<start> ' + w + ' <end>'\n",
    "    return w\n",
    "\n",
    "def preprocess_sentence_af(w):\n",
    "    w = unicode_to_ascii(w.lower().strip())\n",
    "\n",
    "    # 在单词与跟在其后的标点符号之间插入一个空格\n",
    "    # 例如： \"he is a boy.\" => \"he is a boy .\"\n",
    "    # 参考：https://stackoverflow.com/questions/3645931/python-padding-punctuation-with-white-spaces-keeping-punctuation\n",
    "    w = re.sub(r\"([?.!,¿])\", r\" \\1 \", w)\n",
    "    w = re.sub(r'[\" \"]+', \" \", w)\n",
    "\n",
    "    # 除了 (a-z, A-Z, \".\", \"?\", \"!\", \",\")，将所有字符替换为空格\n",
    "    w = re.sub(r\"[^a-zA-Z?.!,¿]+\", \" \", w)\n",
    "\n",
    "    w = w.rstrip().strip()\n",
    "\n",
    "    # 给句子加上开始和结束标记\n",
    "    # 以便模型知道何时开始和结束预测\n",
    "    w = '<start> ' + w + ' <end>'\n",
    "    return w"
   ]
  },
  {
   "cell_type": "code",
   "execution_count": 98,
   "metadata": {
    "id": "opI2GzOt479E"
   },
   "outputs": [
    {
     "name": "stdout",
     "output_type": "stream",
     "text": [
      "<start> come in . <end>\n",
      "b'<start> gaan binne . <end>'\n"
     ]
    }
   ],
   "source": [
    "en_sentence = u\"Come in.\"\n",
    "af_sentence = u\"Gaan binne.\"\n",
    "print(preprocess_sentence_en(en_sentence))\n",
    "print(preprocess_sentence_af(af_sentence).encode('utf-8'))"
   ]
  },
  {
   "cell_type": "code",
   "execution_count": 99,
   "metadata": {
    "id": "OHn4Dct23jEm"
   },
   "outputs": [],
   "source": [
    "# 1. 去除重音符号\n",
    "# 2. 清理句子\n",
    "# 3. 返回这样格式的单词对：[ENGLISH, Afrikaans]\n",
    "def create_dataset(path, num_examples):\n",
    "    lines = io.open(path, encoding='UTF-8').read().strip().split('\\n')\n",
    "\n",
    "    # word_pairs = [[preprocess_sentence_en(w) for w in l.split('\\t')]  for l in lines[:num_examples]]\n",
    "    word_pairs = [[preprocess_sentence_en(l.split('\\t')[0]), preprocess_sentence_af(l.split('\\t')[1])]  for l in lines[:num_examples]]\n",
    "\n",
    "    return zip(*word_pairs)"
   ]
  },
  {
   "cell_type": "code",
   "execution_count": 100,
   "metadata": {
    "id": "cTbSbBz55QtF"
   },
   "outputs": [
    {
     "name": "stdout",
     "output_type": "stream",
     "text": [
      "<start> i had an appointment at , but i got caught in traffic and couldn t get there in time . <end>\n",
      "<start> ek het n afspraak gehad om , maar ek was vasgevang in die verkeer en kon nie daar kom in tyd nie . <end>\n"
     ]
    }
   ],
   "source": [
    "en, af = create_dataset(path_to_file, None)\n",
    "print(en[-1])\n",
    "print(af[-1])"
   ]
  },
  {
   "cell_type": "code",
   "execution_count": 101,
   "metadata": {
    "id": "OmMZQpdO60dt"
   },
   "outputs": [],
   "source": [
    "def max_length(tensor):\n",
    "    return max(len(t) for t in tensor)"
   ]
  },
  {
   "cell_type": "code",
   "execution_count": 102,
   "metadata": {
    "id": "bIOn8RCNDJXG"
   },
   "outputs": [],
   "source": [
    "def tokenize(lang):\n",
    "  lang_tokenizer = tf.keras.preprocessing.text.Tokenizer(\n",
    "      filters='')\n",
    "  lang_tokenizer.fit_on_texts(lang)\n",
    "\n",
    "  tensor = lang_tokenizer.texts_to_sequences(lang)\n",
    "\n",
    "  tensor = tf.keras.preprocessing.sequence.pad_sequences(tensor,\n",
    "                                                         padding='post')\n",
    "\n",
    "  return tensor, lang_tokenizer"
   ]
  },
  {
   "cell_type": "code",
   "execution_count": 103,
   "metadata": {
    "id": "eAY9k49G3jE_"
   },
   "outputs": [],
   "source": [
    "def load_dataset(path, num_examples=None):\n",
    "    # 创建清理过的输入输出对\n",
    "    targ_lang, inp_lang = create_dataset(path, num_examples)\n",
    "\n",
    "    input_tensor, inp_lang_tokenizer = tokenize(inp_lang)\n",
    "    target_tensor, targ_lang_tokenizer = tokenize(targ_lang)\n",
    "\n",
    "    return input_tensor, target_tensor, inp_lang_tokenizer, targ_lang_tokenizer"
   ]
  },
  {
   "cell_type": "markdown",
   "metadata": {
    "id": "GOi42V79Ydlr"
   },
   "source": [
    "### 限制数据集的大小以加快实验速度（可选）\n",
    "\n",
    "在超过 10 万个句子的完整数据集上训练需要很长时间。为了更快地训练，我们可以将数据集的大小限制为 3 万个句子（当然，翻译质量也会随着数据的减少而降低）："
   ]
  },
  {
   "cell_type": "code",
   "execution_count": 104,
   "metadata": {
    "id": "cnxC7q-j3jFD"
   },
   "outputs": [],
   "source": [
    "# 尝试实验不同大小的数据集\n",
    "num_examples = 821\n",
    "input_tensor, target_tensor, inp_lang, targ_lang = load_dataset(path_to_file, num_examples)\n",
    "\n",
    "# 计算目标张量的最大长度 （max_length）\n",
    "max_length_targ, max_length_inp = max_length(target_tensor), max_length(input_tensor)"
   ]
  },
  {
   "cell_type": "code",
   "execution_count": 105,
   "metadata": {
    "id": "4QILQkOs3jFG"
   },
   "outputs": [
    {
     "name": "stdout",
     "output_type": "stream",
     "text": [
      "656 656 165 165\n"
     ]
    }
   ],
   "source": [
    "# 采用 80 - 20 的比例切分训练集和验证集\n",
    "input_tensor_train, input_tensor_val, target_tensor_train, target_tensor_val = train_test_split(input_tensor, target_tensor, test_size=0.2)\n",
    "\n",
    "# 显示长度\n",
    "print(len(input_tensor_train), len(target_tensor_train), len(input_tensor_val), len(target_tensor_val))"
   ]
  },
  {
   "cell_type": "code",
   "execution_count": 106,
   "metadata": {
    "id": "lJPmLZGMeD5q"
   },
   "outputs": [],
   "source": [
    "def convert(lang, tensor):\n",
    "  for t in tensor:\n",
    "    if t!=0:\n",
    "      print (\"%d ----> %s\" % (t, lang.index_word[t]))"
   ]
  },
  {
   "cell_type": "code",
   "execution_count": 107,
   "metadata": {
    "id": "VXukARTDd7MT"
   },
   "outputs": [
    {
     "name": "stdout",
     "output_type": "stream",
     "text": [
      "Input Language; index to word mapping\n",
      "1 ----> <start>\n",
      "5 ----> ek\n",
      "194 ----> wou\n",
      "4 ----> nie\n",
      "12 ----> n\n",
      "199 ----> groot\n",
      "148 ----> saak\n",
      "900 ----> hiervan\n",
      "37 ----> maak\n",
      "4 ----> nie\n",
      "3 ----> .\n",
      "2 ----> <end>\n",
      "\n",
      "Target Language; index to word mapping\n",
      "1 ----> <start>\n",
      "4 ----> i\n",
      "63 ----> didn\n",
      "7 ----> t\n",
      "31 ----> want\n",
      "8 ----> to\n",
      "100 ----> make\n",
      "12 ----> a\n",
      "217 ----> big\n",
      "916 ----> deal\n",
      "67 ----> out\n",
      "33 ----> of\n",
      "17 ----> it\n",
      "3 ----> .\n",
      "2 ----> <end>\n"
     ]
    }
   ],
   "source": [
    "print (\"Input Language; index to word mapping\")\n",
    "convert(inp_lang, input_tensor_train[0])\n",
    "print ()\n",
    "print (\"Target Language; index to word mapping\")\n",
    "convert(targ_lang, target_tensor_train[0])"
   ]
  },
  {
   "cell_type": "markdown",
   "metadata": {
    "id": "rgCLkfv5uO3d"
   },
   "source": [
    "### 创建一个 tf.data 数据集"
   ]
  },
  {
   "cell_type": "code",
   "execution_count": 108,
   "metadata": {
    "id": "TqHsArVZ3jFS"
   },
   "outputs": [],
   "source": [
    "BUFFER_SIZE = len(input_tensor_train)\n",
    "BATCH_SIZE = 64\n",
    "steps_per_epoch = len(input_tensor_train)//BATCH_SIZE\n",
    "embedding_dim = 256\n",
    "units = 1024\n",
    "vocab_inp_size = len(inp_lang.word_index)+1\n",
    "vocab_tar_size = len(targ_lang.word_index)+1\n",
    "\n",
    "dataset = tf.data.Dataset.from_tensor_slices((input_tensor_train, target_tensor_train)).shuffle(BUFFER_SIZE)\n",
    "dataset = dataset.batch(BATCH_SIZE, drop_remainder=True)"
   ]
  },
  {
   "cell_type": "code",
   "execution_count": 109,
   "metadata": {
    "id": "qc6-NK1GtWQt"
   },
   "outputs": [
    {
     "data": {
      "text/plain": [
       "(TensorShape([64, 25]), TensorShape([64, 23]))"
      ]
     },
     "execution_count": 109,
     "metadata": {},
     "output_type": "execute_result"
    }
   ],
   "source": [
    "example_input_batch, example_target_batch = next(iter(dataset))\n",
    "example_input_batch.shape, example_target_batch.shape"
   ]
  },
  {
   "cell_type": "markdown",
   "metadata": {
    "id": "TNfHIF71ulLu"
   },
   "source": [
    "## 编写编码器 （encoder） 和解码器 （decoder） 模型\n",
    "\n",
    "实现一个基于注意力的编码器 - 解码器模型。关于这种模型，你可以阅读 TensorFlow 的 [神经机器翻译 (序列到序列) 教程](https://github.com/tensorflow/nmt)。本示例采用一组更新的 API。此笔记本实现了上述序列到序列教程中的 [注意力方程式](https://github.com/tensorflow/nmt#background-on-the-attention-mechanism)。下图显示了注意力机制为每个输入单词分配一个权重，然后解码器将这个权重用于预测句子中的下一个单词。下图和公式是 [Luong 的论文](https://arxiv.org/abs/1508.04025v5)中注意力机制的一个例子。\n",
    "\n",
    "<img src=\"https://tensorflow.google.cn/images/seq2seq/attention_mechanism.jpg\" width=\"500\" alt=\"attention mechanism\">\n",
    "\n",
    "输入经过编码器模型，编码器模型为我们提供形状为 *(批大小，最大长度，隐藏层大小)* 的编码器输出和形状为 *(批大小，隐藏层大小)* 的编码器隐藏层状态。\n",
    "\n",
    "下面是所实现的方程式：\n",
    "\n",
    "<img src=\"https://tensorflow.google.cn/images/seq2seq/attention_equation_0.jpg\" alt=\"attention equation 0\" width=\"800\">\n",
    "<img src=\"https://tensorflow.google.cn/images/seq2seq/attention_equation_1.jpg\" alt=\"attention equation 1\" width=\"800\">\n",
    "\n",
    "本教程的编码器采用 [Bahdanau 注意力](https://arxiv.org/pdf/1409.0473.pdf)。在用简化形式编写之前，让我们先决定符号：\n",
    "\n",
    "* FC = 完全连接（密集）层\n",
    "* EO = 编码器输出\n",
    "* H = 隐藏层状态\n",
    "* X = 解码器输入\n",
    "\n",
    "以及伪代码：\n",
    "\n",
    "* `score = FC(tanh(FC(EO) + FC(H)))`\n",
    "* `attention weights = softmax(score, axis = 1)`。 Softmax 默认被应用于最后一个轴，但是这里我们想将它应用于 *第一个轴*, 因为分数 （score） 的形状是 *(批大小，最大长度，隐藏层大小)*。最大长度 （`max_length`） 是我们的输入的长度。因为我们想为每个输入分配一个权重，所以 softmax 应该用在这个轴上。\n",
    "* `context vector = sum(attention weights * EO, axis = 1)`。选择第一个轴的原因同上。\n",
    "* `embedding output` = 解码器输入 X 通过一个嵌入层。\n",
    "* `merged vector = concat(embedding output, context vector)`\n",
    "* 此合并后的向量随后被传送到 GRU\n",
    "\n",
    "每个步骤中所有向量的形状已在代码的注释中阐明："
   ]
  },
  {
   "cell_type": "code",
   "execution_count": 110,
   "metadata": {
    "id": "nZ2rI24i3jFg"
   },
   "outputs": [],
   "source": [
    "class Encoder(tf.keras.Model):\n",
    "  def __init__(self, vocab_size, embedding_dim, enc_units, batch_sz):\n",
    "    super(Encoder, self).__init__()\n",
    "    self.batch_sz = batch_sz\n",
    "    self.enc_units = enc_units\n",
    "    self.embedding = tf.keras.layers.Embedding(vocab_size, embedding_dim)\n",
    "    self.gru = tf.keras.layers.GRU(self.enc_units,\n",
    "                                   return_sequences=True,\n",
    "                                   return_state=True,\n",
    "                                   recurrent_initializer='glorot_uniform')\n",
    "\n",
    "  def call(self, x, hidden):\n",
    "    x = self.embedding(x)\n",
    "    output, state = self.gru(x, initial_state = hidden)\n",
    "    return output, state\n",
    "\n",
    "  def initialize_hidden_state(self):\n",
    "    return tf.zeros((self.batch_sz, self.enc_units))"
   ]
  },
  {
   "cell_type": "code",
   "execution_count": 111,
   "metadata": {
    "id": "60gSVh05Jl6l"
   },
   "outputs": [
    {
     "name": "stdout",
     "output_type": "stream",
     "text": [
      "Encoder output shape: (batch size, sequence length, units) (64, 25, 1024)\n",
      "Encoder Hidden state shape: (batch size, units) (64, 1024)\n"
     ]
    }
   ],
   "source": [
    "encoder = Encoder(vocab_inp_size, embedding_dim, units, BATCH_SIZE)\n",
    "\n",
    "# 样本输入\n",
    "sample_hidden = encoder.initialize_hidden_state()\n",
    "sample_output, sample_hidden = encoder(example_input_batch, sample_hidden)\n",
    "print ('Encoder output shape: (batch size, sequence length, units) {}'.format(sample_output.shape))\n",
    "print ('Encoder Hidden state shape: (batch size, units) {}'.format(sample_hidden.shape))"
   ]
  },
  {
   "cell_type": "code",
   "execution_count": 112,
   "metadata": {
    "id": "umohpBN2OM94"
   },
   "outputs": [],
   "source": [
    "class BahdanauAttention(tf.keras.layers.Layer):\n",
    "  def __init__(self, units):\n",
    "    super(BahdanauAttention, self).__init__()\n",
    "    self.W1 = tf.keras.layers.Dense(units)\n",
    "    self.W2 = tf.keras.layers.Dense(units)\n",
    "    self.V = tf.keras.layers.Dense(1)\n",
    "\n",
    "  def call(self, query, values):\n",
    "    # 隐藏层的形状 == （批大小，隐藏层大小）\n",
    "    # hidden_with_time_axis 的形状 == （批大小，1，隐藏层大小）\n",
    "    # 这样做是为了执行加法以计算分数  \n",
    "    hidden_with_time_axis = tf.expand_dims(query, 1)\n",
    "\n",
    "    # 分数的形状 == （批大小，最大长度，1）\n",
    "    # 我们在最后一个轴上得到 1， 因为我们把分数应用于 self.V\n",
    "    # 在应用 self.V 之前，张量的形状是（批大小，最大长度，单位）\n",
    "    score = self.V(tf.nn.tanh(\n",
    "        self.W1(values) + self.W2(hidden_with_time_axis)))\n",
    "\n",
    "    # 注意力权重 （attention_weights） 的形状 == （批大小，最大长度，1）\n",
    "    attention_weights = tf.nn.softmax(score, axis=1)\n",
    "\n",
    "    # 上下文向量 （context_vector） 求和之后的形状 == （批大小，隐藏层大小）\n",
    "    context_vector = attention_weights * values\n",
    "    context_vector = tf.reduce_sum(context_vector, axis=1)\n",
    "\n",
    "    return context_vector, attention_weights"
   ]
  },
  {
   "cell_type": "code",
   "execution_count": 113,
   "metadata": {
    "id": "k534zTHiDjQU"
   },
   "outputs": [
    {
     "name": "stdout",
     "output_type": "stream",
     "text": [
      "Attention result shape: (batch size, units) (64, 1024)\n",
      "Attention weights shape: (batch_size, sequence_length, 1) (64, 25, 1)\n"
     ]
    }
   ],
   "source": [
    "attention_layer = BahdanauAttention(10)\n",
    "attention_result, attention_weights = attention_layer(sample_hidden, sample_output)\n",
    "\n",
    "print(\"Attention result shape: (batch size, units) {}\".format(attention_result.shape))\n",
    "print(\"Attention weights shape: (batch_size, sequence_length, 1) {}\".format(attention_weights.shape))"
   ]
  },
  {
   "cell_type": "code",
   "execution_count": 114,
   "metadata": {
    "id": "yJ_B3mhW3jFk"
   },
   "outputs": [],
   "source": [
    "class Decoder(tf.keras.Model):\n",
    "  def __init__(self, vocab_size, embedding_dim, dec_units, batch_sz):\n",
    "    super(Decoder, self).__init__()\n",
    "    self.batch_sz = batch_sz\n",
    "    self.dec_units = dec_units\n",
    "    self.embedding = tf.keras.layers.Embedding(vocab_size, embedding_dim)\n",
    "    self.gru = tf.keras.layers.GRU(self.dec_units,\n",
    "                                   return_sequences=True,\n",
    "                                   return_state=True,\n",
    "                                   recurrent_initializer='glorot_uniform')\n",
    "    self.fc = tf.keras.layers.Dense(vocab_size)\n",
    "\n",
    "    # 用于注意力\n",
    "    self.attention = BahdanauAttention(self.dec_units)\n",
    "\n",
    "  def call(self, x, hidden, enc_output):\n",
    "    # 编码器输出 （enc_output） 的形状 == （批大小，最大长度，隐藏层大小）\n",
    "    context_vector, attention_weights = self.attention(hidden, enc_output)\n",
    "\n",
    "    # x 在通过嵌入层后的形状 == （批大小，1，嵌入维度）\n",
    "    x = self.embedding(x)\n",
    "\n",
    "    # x 在拼接 （concatenation） 后的形状 == （批大小，1，嵌入维度 + 隐藏层大小）\n",
    "    x = tf.concat([tf.expand_dims(context_vector, 1), x], axis=-1)\n",
    "\n",
    "    # 将合并后的向量传送到 GRU\n",
    "    output, state = self.gru(x)\n",
    "\n",
    "    # 输出的形状 == （批大小 * 1，隐藏层大小）\n",
    "    output = tf.reshape(output, (-1, output.shape[2]))\n",
    "\n",
    "    # 输出的形状 == （批大小，vocab）\n",
    "    x = self.fc(output)\n",
    "\n",
    "    return x, state, attention_weights"
   ]
  },
  {
   "cell_type": "code",
   "execution_count": 115,
   "metadata": {
    "id": "P5UY8wko3jFp"
   },
   "outputs": [
    {
     "name": "stdout",
     "output_type": "stream",
     "text": [
      "Decoder output shape: (batch_size, vocab size) (64, 1029)\n"
     ]
    }
   ],
   "source": [
    "decoder = Decoder(vocab_tar_size, embedding_dim, units, BATCH_SIZE)\n",
    "\n",
    "sample_decoder_output, _, _ = decoder(tf.random.uniform((64, 1)),\n",
    "                                      sample_hidden, sample_output)\n",
    "\n",
    "print ('Decoder output shape: (batch_size, vocab size) {}'.format(sample_decoder_output.shape))"
   ]
  },
  {
   "cell_type": "markdown",
   "metadata": {
    "id": "_ch_71VbIRfK"
   },
   "source": [
    "## 定义优化器和损失函数"
   ]
  },
  {
   "cell_type": "code",
   "execution_count": 116,
   "metadata": {
    "id": "WmTHr5iV3jFr"
   },
   "outputs": [],
   "source": [
    "optimizer = tf.keras.optimizers.Adam()\n",
    "loss_object = tf.keras.losses.SparseCategoricalCrossentropy(\n",
    "    from_logits=True, reduction='none')\n",
    "\n",
    "def loss_function(real, pred):\n",
    "  mask = tf.math.logical_not(tf.math.equal(real, 0))\n",
    "  loss_ = loss_object(real, pred)\n",
    "\n",
    "  mask = tf.cast(mask, dtype=loss_.dtype)\n",
    "  loss_ *= mask\n",
    "\n",
    "  return tf.reduce_mean(loss_)"
   ]
  },
  {
   "cell_type": "markdown",
   "metadata": {
    "id": "DMVWzzsfNl4e"
   },
   "source": [
    "## 检查点（基于对象保存）"
   ]
  },
  {
   "cell_type": "code",
   "execution_count": 117,
   "metadata": {
    "id": "Zj8bXQTgNwrF"
   },
   "outputs": [],
   "source": [
    "checkpoint_dir = './training_checkpoints'\n",
    "checkpoint_prefix = os.path.join(checkpoint_dir, \"ckpt\")\n",
    "checkpoint = tf.train.Checkpoint(optimizer=optimizer,\n",
    "                                 encoder=encoder,\n",
    "                                 decoder=decoder)"
   ]
  },
  {
   "cell_type": "markdown",
   "metadata": {
    "id": "hpObfY22IddU"
   },
   "source": [
    "## 训练\n",
    "\n",
    "1. 将 *输入* 传送至 *编码器*，编码器返回 *编码器输出* 和 *编码器隐藏层状态*。\n",
    "2. 将编码器输出、编码器隐藏层状态和解码器输入（即 *开始标记*）传送至解码器。\n",
    "3. 解码器返回 *预测* 和 *解码器隐藏层状态*。\n",
    "4. 解码器隐藏层状态被传送回模型，预测被用于计算损失。\n",
    "5. 使用 *教师强制 （teacher forcing）* 决定解码器的下一个输入。\n",
    "6. *教师强制* 是将 *目标词* 作为 *下一个输入* 传送至解码器的技术。\n",
    "7. 最后一步是计算梯度，并将其应用于优化器和反向传播。"
   ]
  },
  {
   "cell_type": "code",
   "execution_count": 118,
   "metadata": {
    "id": "sC9ArXSsVfqn"
   },
   "outputs": [],
   "source": [
    "@tf.function\n",
    "def train_step(inp, targ, enc_hidden):\n",
    "  loss = 0\n",
    "\n",
    "  with tf.GradientTape() as tape:\n",
    "    enc_output, enc_hidden = encoder(inp, enc_hidden)\n",
    "\n",
    "    dec_hidden = enc_hidden\n",
    "\n",
    "    dec_input = tf.expand_dims([targ_lang.word_index['<start>']] * BATCH_SIZE, 1)\n",
    "\n",
    "    # 教师强制 - 将目标词作为下一个输入\n",
    "    for t in range(1, targ.shape[1]):\n",
    "      # 将编码器输出 （enc_output） 传送至解码器\n",
    "      predictions, dec_hidden, _ = decoder(dec_input, dec_hidden, enc_output)\n",
    "\n",
    "      loss += loss_function(targ[:, t], predictions)\n",
    "\n",
    "      # 使用教师强制\n",
    "      dec_input = tf.expand_dims(targ[:, t], 1)\n",
    "\n",
    "  batch_loss = (loss / int(targ.shape[1]))\n",
    "\n",
    "  variables = encoder.trainable_variables + decoder.trainable_variables\n",
    "\n",
    "  gradients = tape.gradient(loss, variables)\n",
    "\n",
    "  optimizer.apply_gradients(zip(gradients, variables))\n",
    "\n",
    "  return batch_loss"
   ]
  },
  {
   "cell_type": "code",
   "execution_count": 119,
   "metadata": {
    "id": "ddefjBMa3jF0"
   },
   "outputs": [
    {
     "name": "stdout",
     "output_type": "stream",
     "text": [
      "Epoch 1 Batch 0 Loss 2.5916\n",
      "Epoch 1 Loss 2.3149\n",
      "Time taken for 1 epoch 52.88522696495056 sec\n",
      "\n",
      "Epoch 2 Batch 0 Loss 1.9167\n",
      "Epoch 2 Loss 1.8211\n",
      "Time taken for 1 epoch 16.217183113098145 sec\n",
      "\n",
      "Epoch 3 Batch 0 Loss 1.8116\n",
      "Epoch 3 Loss 1.7013\n",
      "Time taken for 1 epoch 15.506727457046509 sec\n",
      "\n",
      "Epoch 4 Batch 0 Loss 1.7632\n",
      "Epoch 4 Loss 1.6240\n",
      "Time taken for 1 epoch 15.631206750869751 sec\n",
      "\n",
      "Epoch 5 Batch 0 Loss 1.5398\n",
      "Epoch 5 Loss 1.5538\n",
      "Time taken for 1 epoch 14.905510663986206 sec\n",
      "\n",
      "Epoch 6 Batch 0 Loss 1.5389\n",
      "Epoch 6 Loss 1.4972\n",
      "Time taken for 1 epoch 16.07095766067505 sec\n",
      "\n",
      "Epoch 7 Batch 0 Loss 1.5042\n",
      "Epoch 7 Loss 1.4266\n",
      "Time taken for 1 epoch 15.024749279022217 sec\n",
      "\n",
      "Epoch 8 Batch 0 Loss 1.4424\n",
      "Epoch 8 Loss 1.3578\n",
      "Time taken for 1 epoch 15.878223896026611 sec\n",
      "\n",
      "Epoch 9 Batch 0 Loss 1.3016\n",
      "Epoch 9 Loss 1.2823\n",
      "Time taken for 1 epoch 14.953404664993286 sec\n",
      "\n",
      "Epoch 10 Batch 0 Loss 1.2078\n",
      "Epoch 10 Loss 1.2332\n",
      "Time taken for 1 epoch 16.01744055747986 sec\n",
      "\n",
      "Epoch 11 Batch 0 Loss 1.0678\n",
      "Epoch 11 Loss 1.1791\n",
      "Time taken for 1 epoch 15.085812091827393 sec\n",
      "\n",
      "Epoch 12 Batch 0 Loss 1.0651\n",
      "Epoch 12 Loss 1.1186\n",
      "Time taken for 1 epoch 16.374051809310913 sec\n",
      "\n",
      "Epoch 13 Batch 0 Loss 1.0615\n",
      "Epoch 13 Loss 1.0738\n",
      "Time taken for 1 epoch 15.267154455184937 sec\n",
      "\n",
      "Epoch 14 Batch 0 Loss 0.9690\n",
      "Epoch 14 Loss 1.0186\n",
      "Time taken for 1 epoch 15.969413757324219 sec\n",
      "\n",
      "Epoch 15 Batch 0 Loss 0.9840\n",
      "Epoch 15 Loss 0.9793\n",
      "Time taken for 1 epoch 14.730222702026367 sec\n",
      "\n",
      "Epoch 16 Batch 0 Loss 0.8947\n",
      "Epoch 16 Loss 0.9419\n",
      "Time taken for 1 epoch 16.037012100219727 sec\n",
      "\n",
      "Epoch 17 Batch 0 Loss 0.7877\n",
      "Epoch 17 Loss 0.8982\n",
      "Time taken for 1 epoch 15.629737615585327 sec\n",
      "\n",
      "Epoch 18 Batch 0 Loss 0.7928\n",
      "Epoch 18 Loss 0.8559\n",
      "Time taken for 1 epoch 16.029560804367065 sec\n",
      "\n",
      "Epoch 19 Batch 0 Loss 0.8426\n",
      "Epoch 19 Loss 0.8271\n",
      "Time taken for 1 epoch 14.932770729064941 sec\n",
      "\n",
      "Epoch 20 Batch 0 Loss 0.6793\n",
      "Epoch 20 Loss 0.7957\n",
      "Time taken for 1 epoch 16.214609146118164 sec\n",
      "\n",
      "Epoch 21 Batch 0 Loss 0.7996\n",
      "Epoch 21 Loss 0.7686\n",
      "Time taken for 1 epoch 15.118728637695312 sec\n",
      "\n",
      "Epoch 22 Batch 0 Loss 0.6845\n",
      "Epoch 22 Loss 0.7349\n",
      "Time taken for 1 epoch 16.438053607940674 sec\n",
      "\n",
      "Epoch 23 Batch 0 Loss 0.6758\n",
      "Epoch 23 Loss 0.7064\n",
      "Time taken for 1 epoch 14.863253116607666 sec\n",
      "\n",
      "Epoch 24 Batch 0 Loss 0.6393\n",
      "Epoch 24 Loss 0.6685\n",
      "Time taken for 1 epoch 15.887611627578735 sec\n",
      "\n",
      "Epoch 25 Batch 0 Loss 0.6128\n",
      "Epoch 25 Loss 0.6327\n",
      "Time taken for 1 epoch 14.955451011657715 sec\n",
      "\n",
      "Epoch 26 Batch 0 Loss 0.6218\n",
      "Epoch 26 Loss 0.6052\n",
      "Time taken for 1 epoch 16.34927725791931 sec\n",
      "\n",
      "Epoch 27 Batch 0 Loss 0.5761\n",
      "Epoch 27 Loss 0.5736\n",
      "Time taken for 1 epoch 14.920921802520752 sec\n",
      "\n",
      "Epoch 28 Batch 0 Loss 0.5643\n",
      "Epoch 28 Loss 0.5569\n",
      "Time taken for 1 epoch 16.037813186645508 sec\n",
      "\n",
      "Epoch 29 Batch 0 Loss 0.5710\n",
      "Epoch 29 Loss 0.5351\n",
      "Time taken for 1 epoch 14.886407375335693 sec\n",
      "\n",
      "Epoch 30 Batch 0 Loss 0.5139\n",
      "Epoch 30 Loss 0.5030\n",
      "Time taken for 1 epoch 16.043986320495605 sec\n",
      "\n",
      "Epoch 31 Batch 0 Loss 0.4773\n",
      "Epoch 31 Loss 0.4707\n",
      "Time taken for 1 epoch 14.901304483413696 sec\n",
      "\n",
      "Epoch 32 Batch 0 Loss 0.4438\n",
      "Epoch 32 Loss 0.4433\n",
      "Time taken for 1 epoch 15.966451168060303 sec\n",
      "\n",
      "Epoch 33 Batch 0 Loss 0.4053\n",
      "Epoch 33 Loss 0.4209\n",
      "Time taken for 1 epoch 15.0188148021698 sec\n",
      "\n",
      "Epoch 34 Batch 0 Loss 0.3539\n",
      "Epoch 34 Loss 0.3961\n",
      "Time taken for 1 epoch 16.785245418548584 sec\n",
      "\n",
      "Epoch 35 Batch 0 Loss 0.3202\n",
      "Epoch 35 Loss 0.3755\n",
      "Time taken for 1 epoch 15.023997783660889 sec\n",
      "\n",
      "Epoch 36 Batch 0 Loss 0.3320\n",
      "Epoch 36 Loss 0.3608\n",
      "Time taken for 1 epoch 15.753349304199219 sec\n",
      "\n",
      "Epoch 37 Batch 0 Loss 0.3234\n",
      "Epoch 37 Loss 0.3357\n",
      "Time taken for 1 epoch 15.058382749557495 sec\n",
      "\n",
      "Epoch 38 Batch 0 Loss 0.2904\n",
      "Epoch 38 Loss 0.3123\n",
      "Time taken for 1 epoch 15.659681558609009 sec\n",
      "\n",
      "Epoch 39 Batch 0 Loss 0.2751\n",
      "Epoch 39 Loss 0.2935\n",
      "Time taken for 1 epoch 14.939799308776855 sec\n",
      "\n",
      "Epoch 40 Batch 0 Loss 0.2617\n",
      "Epoch 40 Loss 0.2787\n",
      "Time taken for 1 epoch 16.003488779067993 sec\n",
      "\n",
      "Epoch 41 Batch 0 Loss 0.2550\n",
      "Epoch 41 Loss 0.2707\n",
      "Time taken for 1 epoch 14.809022903442383 sec\n",
      "\n",
      "Epoch 42 Batch 0 Loss 0.2244\n",
      "Epoch 42 Loss 0.2574\n",
      "Time taken for 1 epoch 15.878273010253906 sec\n",
      "\n",
      "Epoch 43 Batch 0 Loss 0.2097\n",
      "Epoch 43 Loss 0.2487\n",
      "Time taken for 1 epoch 15.105563640594482 sec\n",
      "\n",
      "Epoch 44 Batch 0 Loss 0.2642\n",
      "Epoch 44 Loss 0.2361\n",
      "Time taken for 1 epoch 15.790979385375977 sec\n",
      "\n",
      "Epoch 45 Batch 0 Loss 0.2244\n",
      "Epoch 45 Loss 0.2122\n",
      "Time taken for 1 epoch 14.948065757751465 sec\n",
      "\n",
      "Epoch 46 Batch 0 Loss 0.1881\n",
      "Epoch 46 Loss 0.1880\n",
      "Time taken for 1 epoch 15.785355567932129 sec\n",
      "\n",
      "Epoch 47 Batch 0 Loss 0.1283\n",
      "Epoch 47 Loss 0.1641\n",
      "Time taken for 1 epoch 14.985142230987549 sec\n",
      "\n",
      "Epoch 48 Batch 0 Loss 0.1357\n",
      "Epoch 48 Loss 0.1496\n",
      "Time taken for 1 epoch 15.959869384765625 sec\n",
      "\n",
      "Epoch 49 Batch 0 Loss 0.1271\n",
      "Epoch 49 Loss 0.1294\n",
      "Time taken for 1 epoch 15.463329553604126 sec\n",
      "\n",
      "Epoch 50 Batch 0 Loss 0.1196\n",
      "Epoch 50 Loss 0.1191\n",
      "Time taken for 1 epoch 16.066625833511353 sec\n",
      "\n",
      "Epoch 51 Batch 0 Loss 0.0917\n",
      "Epoch 51 Loss 0.1059\n",
      "Time taken for 1 epoch 14.883289813995361 sec\n",
      "\n",
      "Epoch 52 Batch 0 Loss 0.0904\n",
      "Epoch 52 Loss 0.0972\n",
      "Time taken for 1 epoch 15.884415626525879 sec\n",
      "\n",
      "Epoch 53 Batch 0 Loss 0.0764\n",
      "Epoch 53 Loss 0.0899\n",
      "Time taken for 1 epoch 14.89208459854126 sec\n",
      "\n",
      "Epoch 54 Batch 0 Loss 0.0722\n",
      "Epoch 54 Loss 0.0819\n",
      "Time taken for 1 epoch 15.850926160812378 sec\n",
      "\n",
      "Epoch 55 Batch 0 Loss 0.0705\n",
      "Epoch 55 Loss 0.0720\n",
      "Time taken for 1 epoch 14.77426028251648 sec\n",
      "\n",
      "Epoch 56 Batch 0 Loss 0.0620\n",
      "Epoch 56 Loss 0.0672\n",
      "Time taken for 1 epoch 15.867619514465332 sec\n",
      "\n",
      "Epoch 57 Batch 0 Loss 0.0537\n",
      "Epoch 57 Loss 0.0600\n",
      "Time taken for 1 epoch 14.866978883743286 sec\n",
      "\n",
      "Epoch 58 Batch 0 Loss 0.0393\n",
      "Epoch 58 Loss 0.0517\n",
      "Time taken for 1 epoch 15.944615602493286 sec\n",
      "\n",
      "Epoch 59 Batch 0 Loss 0.0436\n",
      "Epoch 59 Loss 0.0436\n",
      "Time taken for 1 epoch 14.7554452419281 sec\n",
      "\n",
      "Epoch 60 Batch 0 Loss 0.0348\n",
      "Epoch 60 Loss 0.0380\n",
      "Time taken for 1 epoch 15.86282730102539 sec\n",
      "\n",
      "Epoch 61 Batch 0 Loss 0.0268\n",
      "Epoch 61 Loss 0.0329\n",
      "Time taken for 1 epoch 15.048283338546753 sec\n",
      "\n",
      "Epoch 62 Batch 0 Loss 0.0272\n",
      "Epoch 62 Loss 0.0286\n",
      "Time taken for 1 epoch 16.425832509994507 sec\n",
      "\n",
      "Epoch 63 Batch 0 Loss 0.0222\n",
      "Epoch 63 Loss 0.0248\n",
      "Time taken for 1 epoch 14.926523447036743 sec\n",
      "\n",
      "Epoch 64 Batch 0 Loss 0.0247\n",
      "Epoch 64 Loss 0.0226\n",
      "Time taken for 1 epoch 16.563055753707886 sec\n",
      "\n",
      "Epoch 65 Batch 0 Loss 0.0187\n",
      "Epoch 65 Loss 0.0200\n",
      "Time taken for 1 epoch 14.946577310562134 sec\n",
      "\n",
      "Epoch 66 Batch 0 Loss 0.0154\n",
      "Epoch 66 Loss 0.0177\n",
      "Time taken for 1 epoch 15.876466274261475 sec\n",
      "\n",
      "Epoch 67 Batch 0 Loss 0.0149\n",
      "Epoch 67 Loss 0.0161\n",
      "Time taken for 1 epoch 14.966123580932617 sec\n",
      "\n",
      "Epoch 68 Batch 0 Loss 0.0137\n",
      "Epoch 68 Loss 0.0141\n",
      "Time taken for 1 epoch 16.193788766860962 sec\n",
      "\n",
      "Epoch 69 Batch 0 Loss 0.0111\n",
      "Epoch 69 Loss 0.0126\n",
      "Time taken for 1 epoch 15.26820421218872 sec\n",
      "\n",
      "Epoch 70 Batch 0 Loss 0.0105\n",
      "Epoch 70 Loss 0.0115\n",
      "Time taken for 1 epoch 16.05958652496338 sec\n",
      "\n",
      "Epoch 71 Batch 0 Loss 0.0096\n",
      "Epoch 71 Loss 0.0110\n",
      "Time taken for 1 epoch 14.832600831985474 sec\n",
      "\n",
      "Epoch 72 Batch 0 Loss 0.0119\n",
      "Epoch 72 Loss 0.0105\n",
      "Time taken for 1 epoch 15.60629153251648 sec\n",
      "\n",
      "Epoch 73 Batch 0 Loss 0.0080\n",
      "Epoch 73 Loss 0.0101\n",
      "Time taken for 1 epoch 14.962276220321655 sec\n",
      "\n",
      "Epoch 74 Batch 0 Loss 0.0076\n",
      "Epoch 74 Loss 0.0098\n",
      "Time taken for 1 epoch 15.860488414764404 sec\n",
      "\n",
      "Epoch 75 Batch 0 Loss 0.0133\n",
      "Epoch 75 Loss 0.0103\n",
      "Time taken for 1 epoch 15.03751516342163 sec\n",
      "\n",
      "Epoch 76 Batch 0 Loss 0.0108\n",
      "Epoch 76 Loss 0.0094\n",
      "Time taken for 1 epoch 15.76124095916748 sec\n",
      "\n",
      "Epoch 77 Batch 0 Loss 0.0086\n",
      "Epoch 77 Loss 0.0088\n",
      "Time taken for 1 epoch 15.187892198562622 sec\n",
      "\n",
      "Epoch 78 Batch 0 Loss 0.0078\n",
      "Epoch 78 Loss 0.0083\n",
      "Time taken for 1 epoch 15.885009050369263 sec\n",
      "\n",
      "Epoch 79 Batch 0 Loss 0.0097\n",
      "Epoch 79 Loss 0.0081\n",
      "Time taken for 1 epoch 14.881834506988525 sec\n",
      "\n",
      "Epoch 80 Batch 0 Loss 0.0065\n",
      "Epoch 80 Loss 0.0078\n",
      "Time taken for 1 epoch 15.99949336051941 sec\n",
      "\n",
      "Epoch 81 Batch 0 Loss 0.0062\n",
      "Epoch 81 Loss 0.0072\n",
      "Time taken for 1 epoch 14.954171657562256 sec\n",
      "\n",
      "Epoch 82 Batch 0 Loss 0.0084\n",
      "Epoch 82 Loss 0.0073\n",
      "Time taken for 1 epoch 16.120633125305176 sec\n",
      "\n",
      "Epoch 83 Batch 0 Loss 0.0074\n",
      "Epoch 83 Loss 0.0076\n",
      "Time taken for 1 epoch 15.025997400283813 sec\n",
      "\n",
      "Epoch 84 Batch 0 Loss 0.0055\n",
      "Epoch 84 Loss 0.0067\n",
      "Time taken for 1 epoch 15.729320049285889 sec\n",
      "\n",
      "Epoch 85 Batch 0 Loss 0.0064\n",
      "Epoch 85 Loss 0.0063\n",
      "Time taken for 1 epoch 14.979657411575317 sec\n",
      "\n"
     ]
    },
    {
     "name": "stdout",
     "output_type": "stream",
     "text": [
      "Epoch 86 Batch 0 Loss 0.0052\n",
      "Epoch 86 Loss 0.0065\n",
      "Time taken for 1 epoch 15.74447512626648 sec\n",
      "\n",
      "Epoch 87 Batch 0 Loss 0.0064\n",
      "Epoch 87 Loss 0.0064\n",
      "Time taken for 1 epoch 14.985184669494629 sec\n",
      "\n",
      "Epoch 88 Batch 0 Loss 0.0073\n",
      "Epoch 88 Loss 0.0060\n",
      "Time taken for 1 epoch 15.662347078323364 sec\n",
      "\n",
      "Epoch 89 Batch 0 Loss 0.0045\n",
      "Epoch 89 Loss 0.0065\n",
      "Time taken for 1 epoch 14.959612131118774 sec\n",
      "\n",
      "Epoch 90 Batch 0 Loss 0.0047\n",
      "Epoch 90 Loss 0.0063\n",
      "Time taken for 1 epoch 15.918113470077515 sec\n",
      "\n",
      "Epoch 91 Batch 0 Loss 0.0076\n",
      "Epoch 91 Loss 0.0063\n",
      "Time taken for 1 epoch 14.93407654762268 sec\n",
      "\n",
      "Epoch 92 Batch 0 Loss 0.0054\n",
      "Epoch 92 Loss 0.0062\n",
      "Time taken for 1 epoch 16.148178339004517 sec\n",
      "\n",
      "Epoch 93 Batch 0 Loss 0.0055\n",
      "Epoch 93 Loss 0.0061\n",
      "Time taken for 1 epoch 15.078313827514648 sec\n",
      "\n",
      "Epoch 94 Batch 0 Loss 0.0073\n",
      "Epoch 94 Loss 0.0055\n",
      "Time taken for 1 epoch 16.08890986442566 sec\n",
      "\n",
      "Epoch 95 Batch 0 Loss 0.0033\n",
      "Epoch 95 Loss 0.0055\n",
      "Time taken for 1 epoch 14.785132646560669 sec\n",
      "\n",
      "Epoch 96 Batch 0 Loss 0.0033\n",
      "Epoch 96 Loss 0.0053\n",
      "Time taken for 1 epoch 16.028589248657227 sec\n",
      "\n",
      "Epoch 97 Batch 0 Loss 0.0035\n",
      "Epoch 97 Loss 0.0051\n",
      "Time taken for 1 epoch 15.00517463684082 sec\n",
      "\n",
      "Epoch 98 Batch 0 Loss 0.0030\n",
      "Epoch 98 Loss 0.0055\n",
      "Time taken for 1 epoch 15.963196754455566 sec\n",
      "\n",
      "Epoch 99 Batch 0 Loss 0.0031\n",
      "Epoch 99 Loss 0.0053\n",
      "Time taken for 1 epoch 15.195842981338501 sec\n",
      "\n",
      "Epoch 100 Batch 0 Loss 0.0062\n",
      "Epoch 100 Loss 0.0048\n",
      "Time taken for 1 epoch 15.80478310585022 sec\n",
      "\n"
     ]
    }
   ],
   "source": [
    "EPOCHS = 100\n",
    "\n",
    "for epoch in range(EPOCHS):\n",
    "  start = time.time()\n",
    "\n",
    "  enc_hidden = encoder.initialize_hidden_state()\n",
    "  total_loss = 0\n",
    "\n",
    "  for (batch, (inp, targ)) in enumerate(dataset.take(steps_per_epoch)):\n",
    "    batch_loss = train_step(inp, targ, enc_hidden)\n",
    "    total_loss += batch_loss\n",
    "\n",
    "    if batch % 100 == 0:\n",
    "        print('Epoch {} Batch {} Loss {:.4f}'.format(epoch + 1,\n",
    "                                                     batch,\n",
    "                                                     batch_loss.numpy()))\n",
    "  # 每 2 个周期（epoch），保存（检查点）一次模型\n",
    "  if (epoch + 1) % 2 == 0:\n",
    "    checkpoint.save(file_prefix = checkpoint_prefix)\n",
    "\n",
    "  print('Epoch {} Loss {:.4f}'.format(epoch + 1,\n",
    "                                      total_loss / steps_per_epoch))\n",
    "  print('Time taken for 1 epoch {} sec\\n'.format(time.time() - start))"
   ]
  },
  {
   "cell_type": "markdown",
   "metadata": {
    "id": "mU3Ce8M6I3rz"
   },
   "source": [
    "## 翻译\n",
    "\n",
    "* 评估函数类似于训练循环，不同之处在于在这里我们不使用 *教师强制*。每个时间步的解码器输入是其先前的预测、隐藏层状态和编码器输出。\n",
    "* 当模型预测 *结束标记* 时停止预测。\n",
    "* 存储 *每个时间步的注意力权重*。\n",
    "\n",
    "请注意：对于一个输入，编码器输出仅计算一次。"
   ]
  },
  {
   "cell_type": "code",
   "execution_count": 120,
   "metadata": {
    "id": "EbQpyYs13jF_"
   },
   "outputs": [],
   "source": [
    "def evaluate(sentence):\n",
    "    attention_plot = np.zeros((max_length_targ, max_length_inp))\n",
    "\n",
    "    sentence = preprocess_sentence_af(sentence)\n",
    "\n",
    "    inputs = [inp_lang.word_index[i] for i in sentence.split(' ')]\n",
    "    inputs = tf.keras.preprocessing.sequence.pad_sequences([inputs],\n",
    "                                                           maxlen=max_length_inp,\n",
    "                                                           padding='post')\n",
    "    inputs = tf.convert_to_tensor(inputs)\n",
    "\n",
    "    result = ''\n",
    "\n",
    "    hidden = [tf.zeros((1, units))]\n",
    "    enc_out, enc_hidden = encoder(inputs, hidden)\n",
    "\n",
    "    dec_hidden = enc_hidden\n",
    "    dec_input = tf.expand_dims([targ_lang.word_index['<start>']], 0)\n",
    "\n",
    "    for t in range(max_length_targ):\n",
    "        predictions, dec_hidden, attention_weights = decoder(dec_input,\n",
    "                                                             dec_hidden,\n",
    "                                                             enc_out)\n",
    "\n",
    "        # 存储注意力权重以便后面制图\n",
    "        attention_weights = tf.reshape(attention_weights, (-1, ))\n",
    "        attention_plot[t] = attention_weights.numpy()\n",
    "\n",
    "        predicted_id = tf.argmax(predictions[0]).numpy()\n",
    "\n",
    "        result += targ_lang.index_word[predicted_id] + ' '\n",
    "\n",
    "        if targ_lang.index_word[predicted_id] == '<end>':\n",
    "            return result, sentence, attention_plot\n",
    "\n",
    "        # 预测的 ID 被输送回模型\n",
    "        dec_input = tf.expand_dims([predicted_id], 0)\n",
    "\n",
    "    return result, sentence, attention_plot"
   ]
  },
  {
   "cell_type": "code",
   "execution_count": 121,
   "metadata": {
    "id": "s5hQWlbN3jGF"
   },
   "outputs": [],
   "source": [
    "# 注意力权重制图函数\n",
    "def plot_attention(attention, sentence, predicted_sentence):\n",
    "    fig = plt.figure(figsize=(10,10))\n",
    "    ax = fig.add_subplot(1, 1, 1)\n",
    "    ax.matshow(attention, cmap='viridis')\n",
    "\n",
    "    fontdict = {'fontsize': 14}\n",
    "\n",
    "    ax.set_xticklabels([''] + sentence, fontdict=fontdict, rotation=90)\n",
    "    ax.set_yticklabels([''] + predicted_sentence, fontdict=fontdict)\n",
    "\n",
    "    ax.xaxis.set_major_locator(ticker.MultipleLocator(1))\n",
    "    ax.yaxis.set_major_locator(ticker.MultipleLocator(1))\n",
    "\n",
    "    plt.show()"
   ]
  },
  {
   "cell_type": "code",
   "execution_count": 122,
   "metadata": {
    "id": "sl9zUHzg3jGI"
   },
   "outputs": [],
   "source": [
    "def translate(sentence):\n",
    "    result, sentence, attention_plot = evaluate(sentence)\n",
    "\n",
    "    print('Input: %s' % (sentence))\n",
    "    print('Predicted translation: {}'.format(result))\n",
    "\n",
    "    attention_plot = attention_plot[:len(result.split(' ')), :len(sentence.split(' '))]\n",
    "    plot_attention(attention_plot, sentence.split(' '), result.split(' '))"
   ]
  },
  {
   "cell_type": "markdown",
   "metadata": {
    "id": "n250XbnjOaqP"
   },
   "source": [
    "## 恢复最新的检查点并验证"
   ]
  },
  {
   "cell_type": "code",
   "execution_count": 123,
   "metadata": {
    "id": "UJpT9D5_OgP6"
   },
   "outputs": [
    {
     "data": {
      "text/plain": [
       "<tensorflow.python.training.tracking.util.CheckpointLoadStatus at 0x229a27ad4e0>"
      ]
     },
     "execution_count": 123,
     "metadata": {},
     "output_type": "execute_result"
    }
   ],
   "source": [
    "# 恢复检查点目录 （checkpoint_dir） 中最新的检查点\n",
    "checkpoint.restore(tf.train.latest_checkpoint(checkpoint_dir))"
   ]
  },
  {
   "cell_type": "code",
   "execution_count": 124,
   "metadata": {
    "id": "WrAM0FDomq3E"
   },
   "outputs": [
    {
     "name": "stdout",
     "output_type": "stream",
     "text": [
      "Input: <start> ek gaan slaap om tien . <end>\n",
      "Predicted translation: i ll stay here until ten . <end> \n"
     ]
    },
    {
     "data": {
      "image/png": "[encoded data removed]",
      "text/plain": [
       "<Figure size 720x720 with 1 Axes>"
      ]
     },
     "metadata": {
      "needs_background": "light"
     },
     "output_type": "display_data"
    }
   ],
   "source": [
    "translate(u'Ek gaan slaap om tien.')"
   ]
  },
  {
   "cell_type": "code",
   "execution_count": 125,
   "metadata": {
    "id": "zSx2iM36EZQZ"
   },
   "outputs": [
    {
     "name": "stdout",
     "output_type": "stream",
     "text": [
      "Input: <start> kan jy my hierso vat ? <end>\n",
      "Predicted translation: can you take over here ? <end> \n"
     ]
    },
    {
     "data": {
      "image/png": "[encoded data removed]",
      "text/plain": [
       "<Figure size 720x720 with 1 Axes>"
      ]
     },
     "metadata": {
      "needs_background": "light"
     },
     "output_type": "display_data"
    }
   ],
   "source": [
    "translate(u'Kan jy my hierso vat?')"
   ]
  },
  {
   "cell_type": "code",
   "execution_count": 126,
   "metadata": {
    "id": "A3LLCx3ZE0Ls"
   },
   "outputs": [
    {
     "name": "stdout",
     "output_type": "stream",
     "text": [
      "Input: <start> is jy seker jy wil he dat ek jou moet help met jou huiswerk ? <end>\n",
      "Predicted translation: you don t be any happier if i m guessing you didn t do that without you to do that without you to \n"
     ]
    },
    {
     "data": {
      "image/png": "[encoded data removed]",
      "text/plain": [
       "<Figure size 720x720 with 1 Axes>"
      ]
     },
     "metadata": {
      "needs_background": "light"
     },
     "output_type": "display_data"
    }
   ],
   "source": [
    "translate(u'Is jy seker jy wil hê dat ek jou moet help met jou huiswerk?')"
   ]
  },
  {
   "cell_type": "code",
   "execution_count": 127,
   "metadata": {
    "id": "DUQVLVqUE1YW"
   },
   "outputs": [
    {
     "name": "stdout",
     "output_type": "stream",
     "text": [
      "Input: <start> ek soek werk . <end>\n",
      "Predicted translation: i m looking for a job . <end> \n"
     ]
    },
    {
     "data": {
      "image/png": "[encoded data removed]",
      "text/plain": [
       "<Figure size 720x720 with 1 Axes>"
      ]
     },
     "metadata": {
      "needs_background": "light"
     },
     "output_type": "display_data"
    }
   ],
   "source": [
    "# 错误的翻译\n",
    "translate(u'Ek soek werk.')"
   ]
  }
 ],
 "metadata": {
  "accelerator": "GPU",
  "colab": {
   "collapsed_sections": [],
   "name": "nmt_with_attention.ipynb",
   "toc_visible": true
  },
  "kernelspec": {
   "display_name": "Python 3",
   "language": "python",
   "name": "python3"
  },
  "language_info": {
   "codemirror_mode": {
    "name": "ipython",
    "version": 3
   },
   "file_extension": ".py",
   "mimetype": "text/x-python",
   "name": "python",
   "nbconvert_exporter": "python",
   "pygments_lexer": "ipython3",
   "version": "3.7.1"
  }
 },
 "nbformat": 4,
 "nbformat_minor": 1
}
